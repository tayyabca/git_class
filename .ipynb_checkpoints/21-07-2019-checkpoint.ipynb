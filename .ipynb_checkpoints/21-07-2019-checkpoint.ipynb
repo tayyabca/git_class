{
 "cells": [
  {
   "cell_type": "code",
   "execution_count": 1,
   "metadata": {},
   "outputs": [],
   "source": [
    "import csv"
   ]
  },
  {
   "cell_type": "code",
   "execution_count": 2,
   "metadata": {},
   "outputs": [
    {
     "name": "stdout",
     "output_type": "stream",
     "text": [
      "<_csv.reader object at 0x0000000005A13D48>\n"
     ]
    }
   ],
   "source": [
    "with open('csv.csv') as f:\n",
    "    x = csv.reader(f)\n",
    "    print(x)"
   ]
  },
  {
   "cell_type": "code",
   "execution_count": 5,
   "metadata": {},
   "outputs": [
    {
     "name": "stdout",
     "output_type": "stream",
     "text": [
      "['Year,Event,Winner']\n",
      "['1995,Best-Kept Lawn,None']\n",
      "['1999,Gobstones,Welch National']\n",
      "['2006,World Cup,Burkina Faso']\n"
     ]
    }
   ],
   "source": [
    "with open('csv.csv') as f:\n",
    "    x = csv.reader(f)\n",
    "    for i in x:\n",
    "        print(i)"
   ]
  },
  {
   "cell_type": "code",
   "execution_count": 7,
   "metadata": {},
   "outputs": [
    {
     "name": "stdout",
     "output_type": "stream",
     "text": [
      "['Year,Event,Winner', '1995,Best-Kept Lawn,None', '1999,Gobstones,Welch National', '2006,World Cup,Burkina Faso']\n"
     ]
    }
   ],
   "source": [
    "with open('csv.csv') as f:\n",
    "    x = csv.reader(f)\n",
    "    data = []\n",
    "    for i in x:\n",
    "        data += i\n",
    "        \n",
    "    print(data)"
   ]
  },
  {
   "cell_type": "code",
   "execution_count": 8,
   "metadata": {},
   "outputs": [],
   "source": [
    "with open('xyz.csv', 'w', newline=\"\") as f:\n",
    "    data_handler = csv.writer(f, delimiter=\",\")\n",
    "    data_handler.writerow([\"Year\", \"Event\", \"Winner\"])\n",
    "    data_handler.writerow([\"1995\", \"Best-Kept Lawn\", \"None\"])\n",
    "    data_handler.writerow([\"1999\", \"Gobstones\", \"Welch National\"])"
   ]
  },
  {
   "cell_type": "code",
   "execution_count": 9,
   "metadata": {},
   "outputs": [],
   "source": [
    "with open('xyz.csv', 'a', newline=\"\") as f:\n",
    "    data_handler = csv.writer(f, delimiter=\",\")\n",
    "    data_handler.writerow([\"Year\", \"Event\", \"Winner\"])\n",
    "    data_handler.writerow([\"1990\", \"Kept Lawn\", \"None\"])\n",
    "    data_handler.writerow([\"2000\", \"wilson\", \"Welch National\"])"
   ]
  },
  {
   "cell_type": "code",
   "execution_count": null,
   "metadata": {},
   "outputs": [
    {
     "name": "stdout",
     "output_type": "stream",
     "text": [
      "Type Y if you want to cast vote, otherwise q to quit:y\n",
      "Write your nametayyab\n"
     ]
    }
   ],
   "source": [
    "user_input = \"\"\n",
    "while user_input != \"q\":\n",
    "    user_input = input(\"Type Y if you want to cast vote, otherwise q to quit:\")\n",
    "    if user_input == \"q\":\n",
    "        print(\"You can quite\")\n",
    "    \n",
    "    if user_input == \"y\":\n",
    "        name = input(\"Write your name\")\n",
    "        "
   ]
  },
  {
   "cell_type": "code",
   "execution_count": 2,
   "metadata": {},
   "outputs": [],
   "source": [
    "import json"
   ]
  },
  {
   "cell_type": "code",
   "execution_count": 3,
   "metadata": {},
   "outputs": [],
   "source": [
    "alphabet_letters = [\"a\", \"b\", \"c\"]\n",
    "with open(\"alphabet_list.json\", \"w\") as f:\n",
    "    json.dump(alphabet_letters, f)"
   ]
  },
  {
   "cell_type": "code",
   "execution_count": 5,
   "metadata": {},
   "outputs": [
    {
     "name": "stdout",
     "output_type": "stream",
     "text": [
      "['a', 'b', 'c']\n",
      "a\n",
      "b\n",
      "c\n"
     ]
    }
   ],
   "source": [
    "with open(\"alphabet_list.json\") as f:\n",
    "    x = json.load(f)\n",
    "    print(x)\n",
    "    for i in x:\n",
    "        print(i)"
   ]
  },
  {
   "cell_type": "code",
   "execution_count": 9,
   "metadata": {},
   "outputs": [],
   "source": [
    "person = {'name':'Tayyab', 'cell':3333812453}\n",
    "with open(\"person.json\", \"w\") as f:\n",
    "    json.dump(person, f)"
   ]
  },
  {
   "cell_type": "code",
   "execution_count": 10,
   "metadata": {},
   "outputs": [
    {
     "name": "stdout",
     "output_type": "stream",
     "text": [
      "{'name': 'Tayyab', 'cell': 3333812453}\n",
      "name Tayyab\n",
      "cell 3333812453\n"
     ]
    }
   ],
   "source": [
    "with open(\"person.json\") as f:\n",
    "    x = json.load(f)\n",
    "    print(x)\n",
    "    for i,j in x.items():\n",
    "        print(i,j)"
   ]
  },
  {
   "cell_type": "markdown",
   "metadata": {},
   "source": [
    "# List comprehnsion"
   ]
  },
  {
   "cell_type": "code",
   "execution_count": 15,
   "metadata": {},
   "outputs": [
    {
     "name": "stdout",
     "output_type": "stream",
     "text": [
      "[1, 4, 9, 16]\n"
     ]
    }
   ],
   "source": [
    "new_list = [1, 2, 3, 4]\n",
    "nlist = []\n",
    "for n in new_list:\n",
    "    nlist.append(n ** 2)\n",
    "print(nlist)"
   ]
  },
  {
   "cell_type": "code",
   "execution_count": 12,
   "metadata": {},
   "outputs": [
    {
     "data": {
      "text/plain": [
       "[1, 4, 9, 16]"
      ]
     },
     "execution_count": 12,
     "metadata": {},
     "output_type": "execute_result"
    }
   ],
   "source": [
    "nlist"
   ]
  },
  {
   "cell_type": "code",
   "execution_count": 13,
   "metadata": {},
   "outputs": [],
   "source": [
    "lComp = [i ** 2 for i in [1, 2, 3, 4]]"
   ]
  },
  {
   "cell_type": "code",
   "execution_count": 14,
   "metadata": {},
   "outputs": [
    {
     "name": "stdout",
     "output_type": "stream",
     "text": [
      "[1, 4, 9, 16]\n"
     ]
    }
   ],
   "source": [
    "print(lComp)"
   ]
  },
  {
   "cell_type": "code",
   "execution_count": 21,
   "metadata": {},
   "outputs": [
    {
     "name": "stdout",
     "output_type": "stream",
     "text": [
      "['Tayyab', 30]\n"
     ]
    }
   ],
   "source": [
    "person = {'name' : 'Tayyab', 'age': 30}\n",
    "\n",
    "new_lComp = [i for i in person.values()]\n",
    "print(new_lComp)"
   ]
  },
  {
   "cell_type": "code",
   "execution_count": 22,
   "metadata": {},
   "outputs": [
    {
     "name": "stdout",
     "output_type": "stream",
     "text": [
      "[0.0, 0.2, 0.4, 0.6, 0.8, 1.0, 1.2, 1.4, 1.6, 1.8]\n"
     ]
    }
   ],
   "source": [
    "numb = [ i / 5 for i in range(10)]\n",
    "print(numb)"
   ]
  },
  {
   "cell_type": "code",
   "execution_count": 23,
   "metadata": {},
   "outputs": [
    {
     "name": "stdout",
     "output_type": "stream",
     "text": [
      "[0, 2, 4, 6, 8]\n"
     ]
    }
   ],
   "source": [
    "even_num = [i for i in range(10) if i%2==0]\n",
    "print(even_num)"
   ]
  },
  {
   "cell_type": "code",
   "execution_count": 25,
   "metadata": {},
   "outputs": [
    {
     "name": "stdout",
     "output_type": "stream",
     "text": [
      "[1, 3, 5, 7, 9]\n"
     ]
    }
   ],
   "source": [
    "odd_num = [i for i in range(10) if i%2!=0]\n",
    "print(odd_num)"
   ]
  },
  {
   "cell_type": "code",
   "execution_count": null,
   "metadata": {},
   "outputs": [],
   "source": []
  }
 ],
 "metadata": {
  "kernelspec": {
   "display_name": "Python 3",
   "language": "python",
   "name": "python3"
  },
  "language_info": {
   "codemirror_mode": {
    "name": "ipython",
    "version": 3
   },
   "file_extension": ".py",
   "mimetype": "text/x-python",
   "name": "python",
   "nbconvert_exporter": "python",
   "pygments_lexer": "ipython3",
   "version": "3.7.3"
  }
 },
 "nbformat": 4,
 "nbformat_minor": 2
}
